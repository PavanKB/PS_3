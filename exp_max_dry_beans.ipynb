{
 "cells": [
  {
   "cell_type": "code",
   "execution_count": 1,
   "id": "d34f51b3-92c4-4bd1-955b-e915e8fb1399",
   "metadata": {},
   "outputs": [
    {
     "name": "stderr",
     "output_type": "stream",
     "text": [
      "Intel(R) Extension for Scikit-learn* enabled (https://github.com/intel/scikit-learn-intelex)\n"
     ]
    }
   ],
   "source": [
    "from sklearnex import patch_sklearn\n",
    "patch_sklearn()\n",
    "\n",
    "import matplotlib.pyplot as plt\n",
    "import seaborn as sns\n",
    "\n",
    "import pandas as pd\n",
    "import numpy as np\n",
    "\n",
    "from sklearn.model_selection import train_test_split\n",
    "from sklearn.preprocessing import StandardScaler\n",
    "from sklearn.pipeline import Pipeline\n",
    "from sklearn.mixture import GaussianMixture\n",
    "from sklearn.metrics import (\n",
    "    silhouette_score\n",
    ")\n",
    "\n",
    "from utils import get_data\n",
    "\n",
    "# sns.set_theme(rc={'figure.figsize':(11.7,8.27)})"
   ]
  },
  {
   "cell_type": "code",
   "execution_count": 2,
   "id": "456abf72-157a-4e58-bc50-06f277a7f41b",
   "metadata": {},
   "outputs": [],
   "source": [
    "X, y, metadata, variables = get_data('dry_bean_dataset')"
   ]
  },
  {
   "cell_type": "code",
   "execution_count": 3,
   "id": "d33ec8e9-0893-4575-9835-86c020c2de53",
   "metadata": {},
   "outputs": [
    {
     "data": {
      "text/plain": [
       "Class   \n",
       "DERMASON    0.260525\n",
       "SIRA        0.193667\n",
       "SEKER       0.148924\n",
       "HOROZ       0.141650\n",
       "CALI        0.119756\n",
       "BARBUNYA    0.097127\n",
       "BOMBAY      0.038351\n",
       "Name: proportion, dtype: float64"
      ]
     },
     "execution_count": 3,
     "metadata": {},
     "output_type": "execute_result"
    }
   ],
   "source": [
    "y.value_counts(normalize=True)"
   ]
  },
  {
   "cell_type": "code",
   "execution_count": 4,
   "id": "b7730a36-848f-48a9-809f-00a872caa147",
   "metadata": {},
   "outputs": [],
   "source": [
    "# Split data into train and test sets.\n",
    "# We use Stratifield sampling to ensure that the distribution of the data is maintained across the sample.\n",
    "# Use stratified kfold cross validation to ensure that the model is not overfitting the data\n",
    "\n",
    "TEST_SIZE = 0.2\n",
    "RANDOM_STATE = 42\n",
    "\n",
    "X_train, X_test, y_train, y_test = train_test_split(X, y, test_size=TEST_SIZE, random_state=RANDOM_STATE, stratify=y)"
   ]
  },
  {
   "cell_type": "code",
   "execution_count": 5,
   "id": "c74a7a91-9796-4480-ad8e-6de7e73258ba",
   "metadata": {},
   "outputs": [
    {
     "data": {
      "text/plain": [
       "0                Area\n",
       "1           Perimeter\n",
       "2     MajorAxisLength\n",
       "3     MinorAxisLength\n",
       "4         AspectRatio\n",
       "5        Eccentricity\n",
       "6          ConvexArea\n",
       "7       EquivDiameter\n",
       "8              Extent\n",
       "9            Solidity\n",
       "10          Roundness\n",
       "11        Compactness\n",
       "12       ShapeFactor1\n",
       "13       ShapeFactor2\n",
       "14       ShapeFactor3\n",
       "15       ShapeFactor4\n",
       "Name: name, dtype: object"
      ]
     },
     "execution_count": 5,
     "metadata": {},
     "output_type": "execute_result"
    }
   ],
   "source": [
    "idx = variables['type'].isin(['Integer', 'Continuous'])\n",
    "num_cols = variables.loc[idx, 'name']\n",
    "num_cols = num_cols.loc[~num_cols.isin(y.columns.tolist())]\n",
    "num_cols"
   ]
  },
  {
   "cell_type": "code",
   "execution_count": 6,
   "id": "b5ccf93f-3424-4b45-aaae-304fc9e1d3c5",
   "metadata": {},
   "outputs": [
    {
     "data": {
      "text/plain": [
       "Series([], Name: name, dtype: object)"
      ]
     },
     "execution_count": 6,
     "metadata": {},
     "output_type": "execute_result"
    }
   ],
   "source": [
    "idx = variables['type'].isin(['Binary', 'Categorical'])\n",
    "cat_cols = variables.loc[idx, 'name']\n",
    "cat_cols = cat_cols.loc[~cat_cols.isin(y.columns)]\n",
    "cat_cols"
   ]
  },
  {
   "cell_type": "markdown",
   "id": "2be4348c-44f9-4799-b3e2-f0bdeca7e04f",
   "metadata": {},
   "source": [
    "# Train the Expectation Maximisation"
   ]
  },
  {
   "cell_type": "code",
   "execution_count": 8,
   "id": "6030238f-f166-42f7-844e-d1a2d2270cf1",
   "metadata": {},
   "outputs": [],
   "source": [
    "RANDOM_STATE = 42\n",
    "N_JOBS = -1\n",
    "VERBOSE = 4\n",
    "\n",
    "# For KMeans use the default algo, max_iterations, init='k-means++'\n",
    "# clus = GaussianMixture(n_init=100, init_params='k-means++', random_state=RANDOM_STATE, covariance_type='full')\n",
    "scaler = StandardScaler()\n",
    "clus = GaussianMixture(random_state=RANDOM_STATE)\n",
    "clus_pipeline = Pipeline(steps=[\n",
    "    ('scaler', scaler),\n",
    "    ('model', clus)\n",
    "])\n"
   ]
  },
  {
   "cell_type": "code",
   "execution_count": 9,
   "id": "81f72a18-de25-4ba9-be0c-592e41526ff7",
   "metadata": {},
   "outputs": [
    {
     "data": {
      "text/html": [
       "<style>#sk-container-id-1 {color: black;}#sk-container-id-1 pre{padding: 0;}#sk-container-id-1 div.sk-toggleable {background-color: white;}#sk-container-id-1 label.sk-toggleable__label {cursor: pointer;display: block;width: 100%;margin-bottom: 0;padding: 0.3em;box-sizing: border-box;text-align: center;}#sk-container-id-1 label.sk-toggleable__label-arrow:before {content: \"▸\";float: left;margin-right: 0.25em;color: #696969;}#sk-container-id-1 label.sk-toggleable__label-arrow:hover:before {color: black;}#sk-container-id-1 div.sk-estimator:hover label.sk-toggleable__label-arrow:before {color: black;}#sk-container-id-1 div.sk-toggleable__content {max-height: 0;max-width: 0;overflow: hidden;text-align: left;background-color: #f0f8ff;}#sk-container-id-1 div.sk-toggleable__content pre {margin: 0.2em;color: black;border-radius: 0.25em;background-color: #f0f8ff;}#sk-container-id-1 input.sk-toggleable__control:checked~div.sk-toggleable__content {max-height: 200px;max-width: 100%;overflow: auto;}#sk-container-id-1 input.sk-toggleable__control:checked~label.sk-toggleable__label-arrow:before {content: \"▾\";}#sk-container-id-1 div.sk-estimator input.sk-toggleable__control:checked~label.sk-toggleable__label {background-color: #d4ebff;}#sk-container-id-1 div.sk-label input.sk-toggleable__control:checked~label.sk-toggleable__label {background-color: #d4ebff;}#sk-container-id-1 input.sk-hidden--visually {border: 0;clip: rect(1px 1px 1px 1px);clip: rect(1px, 1px, 1px, 1px);height: 1px;margin: -1px;overflow: hidden;padding: 0;position: absolute;width: 1px;}#sk-container-id-1 div.sk-estimator {font-family: monospace;background-color: #f0f8ff;border: 1px dotted black;border-radius: 0.25em;box-sizing: border-box;margin-bottom: 0.5em;}#sk-container-id-1 div.sk-estimator:hover {background-color: #d4ebff;}#sk-container-id-1 div.sk-parallel-item::after {content: \"\";width: 100%;border-bottom: 1px solid gray;flex-grow: 1;}#sk-container-id-1 div.sk-label:hover label.sk-toggleable__label {background-color: #d4ebff;}#sk-container-id-1 div.sk-serial::before {content: \"\";position: absolute;border-left: 1px solid gray;box-sizing: border-box;top: 0;bottom: 0;left: 50%;z-index: 0;}#sk-container-id-1 div.sk-serial {display: flex;flex-direction: column;align-items: center;background-color: white;padding-right: 0.2em;padding-left: 0.2em;position: relative;}#sk-container-id-1 div.sk-item {position: relative;z-index: 1;}#sk-container-id-1 div.sk-parallel {display: flex;align-items: stretch;justify-content: center;background-color: white;position: relative;}#sk-container-id-1 div.sk-item::before, #sk-container-id-1 div.sk-parallel-item::before {content: \"\";position: absolute;border-left: 1px solid gray;box-sizing: border-box;top: 0;bottom: 0;left: 50%;z-index: -1;}#sk-container-id-1 div.sk-parallel-item {display: flex;flex-direction: column;z-index: 1;position: relative;background-color: white;}#sk-container-id-1 div.sk-parallel-item:first-child::after {align-self: flex-end;width: 50%;}#sk-container-id-1 div.sk-parallel-item:last-child::after {align-self: flex-start;width: 50%;}#sk-container-id-1 div.sk-parallel-item:only-child::after {width: 0;}#sk-container-id-1 div.sk-dashed-wrapped {border: 1px dashed gray;margin: 0 0.4em 0.5em 0.4em;box-sizing: border-box;padding-bottom: 0.4em;background-color: white;}#sk-container-id-1 div.sk-label label {font-family: monospace;font-weight: bold;display: inline-block;line-height: 1.2em;}#sk-container-id-1 div.sk-label-container {text-align: center;}#sk-container-id-1 div.sk-container {/* jupyter's `normalize.less` sets `[hidden] { display: none; }` but bootstrap.min.css set `[hidden] { display: none !important; }` so we also need the `!important` here to be able to override the default hidden behavior on the sphinx rendered scikit-learn.org. See: https://github.com/scikit-learn/scikit-learn/issues/21755 */display: inline-block !important;position: relative;}#sk-container-id-1 div.sk-text-repr-fallback {display: none;}</style><div id=\"sk-container-id-1\" class=\"sk-top-container\"><div class=\"sk-text-repr-fallback\"><pre>Pipeline(steps=[(&#x27;scaler&#x27;, StandardScaler()),\n",
       "                (&#x27;model&#x27;, GaussianMixture(n_components=3, random_state=42))])</pre><b>In a Jupyter environment, please rerun this cell to show the HTML representation or trust the notebook. <br />On GitHub, the HTML representation is unable to render, please try loading this page with nbviewer.org.</b></div><div class=\"sk-container\" hidden><div class=\"sk-item sk-dashed-wrapped\"><div class=\"sk-label-container\"><div class=\"sk-label sk-toggleable\"><input class=\"sk-toggleable__control sk-hidden--visually\" id=\"sk-estimator-id-1\" type=\"checkbox\" ><label for=\"sk-estimator-id-1\" class=\"sk-toggleable__label sk-toggleable__label-arrow\">Pipeline</label><div class=\"sk-toggleable__content\"><pre>Pipeline(steps=[(&#x27;scaler&#x27;, StandardScaler()),\n",
       "                (&#x27;model&#x27;, GaussianMixture(n_components=3, random_state=42))])</pre></div></div></div><div class=\"sk-serial\"><div class=\"sk-item\"><div class=\"sk-estimator sk-toggleable\"><input class=\"sk-toggleable__control sk-hidden--visually\" id=\"sk-estimator-id-2\" type=\"checkbox\" ><label for=\"sk-estimator-id-2\" class=\"sk-toggleable__label sk-toggleable__label-arrow\">StandardScaler</label><div class=\"sk-toggleable__content\"><pre>StandardScaler()</pre></div></div></div><div class=\"sk-item\"><div class=\"sk-estimator sk-toggleable\"><input class=\"sk-toggleable__control sk-hidden--visually\" id=\"sk-estimator-id-3\" type=\"checkbox\" ><label for=\"sk-estimator-id-3\" class=\"sk-toggleable__label sk-toggleable__label-arrow\">GaussianMixture</label><div class=\"sk-toggleable__content\"><pre>GaussianMixture(n_components=3, random_state=42)</pre></div></div></div></div></div></div></div>"
      ],
      "text/plain": [
       "Pipeline(steps=[('scaler', StandardScaler()),\n",
       "                ('model', GaussianMixture(n_components=3, random_state=42))])"
      ]
     },
     "execution_count": 9,
     "metadata": {},
     "output_type": "execute_result"
    }
   ],
   "source": [
    "clus_pipeline.set_params(model__n_components=3)\n",
    "clus_pipeline.fit(X_train)"
   ]
  },
  {
   "cell_type": "code",
   "execution_count": 12,
   "id": "879dcd87",
   "metadata": {},
   "outputs": [
    {
     "name": "stdout",
     "output_type": "stream",
     "text": [
      "---------- n_components: 2 ----------\n",
      "---------- n_components: 3 ----------\n",
      "---------- n_components: 4 ----------\n",
      "---------- n_components: 5 ----------\n",
      "---------- n_components: 6 ----------\n",
      "---------- n_components: 7 ----------\n",
      "---------- n_components: 8 ----------\n",
      "---------- n_components: 9 ----------\n",
      "---------- n_components: 10 ----------\n",
      "---------- n_components: 11 ----------\n",
      "---------- n_components: 12 ----------\n",
      "---------- n_components: 13 ----------\n",
      "---------- n_components: 14 ----------\n",
      "---------- n_components: 15 ----------\n",
      "---------- n_components: 16 ----------\n",
      "---------- n_components: 17 ----------\n",
      "---------- n_components: 18 ----------\n",
      "---------- n_components: 19 ----------\n"
     ]
    }
   ],
   "source": [
    "results = {}\n",
    "for n_components in range(2, 20):\n",
    "    print(f\"---------- n_components: {n_components} ----------\")\n",
    "    clus_pipeline.set_params(model__n_components=n_components)\n",
    "    clus_pipeline.fit(X_train)\n",
    "    \n",
    "    # clus_labels = clus_pipeline.named_steps['model'].labels_\n",
    "    # sil_score = silhouette_score(X_train, clus_labels)\n",
    "    \n",
    "    results[n_components] = {'aic': clus_pipeline.named_steps['model'].aic(X_train.values),\n",
    "                             'bic': clus_pipeline.named_steps['model'].bic(X_train.values),\n",
    "                             # 'sil_score': sil_score\n",
    "                           }"
   ]
  },
  {
   "cell_type": "code",
   "execution_count": 86,
   "id": "86d6b5d9-d920-4131-9a00-83e44060ad7e",
   "metadata": {},
   "outputs": [
    {
     "name": "stdout",
     "output_type": "stream",
     "text": [
      "{2: {'aic': 6.135332222142268e+16, 'bic': 6.1353322221424904e+16}, 3: {'aic': 2.013495039561106e+18, 'bic': 2.0134950395611092e+18}, 4: {'aic': 2.46679272681232e+18, 'bic': 2.4667927268123244e+18}, 5: {'aic': 2.4667927268123203e+18, 'bic': 2.466792726812326e+18}, 6: {'aic': 2.3882858467141046e+17, 'bic': 2.3882858467141715e+17}, 7: {'aic': 3.190076688123718e+17, 'bic': 3.190076688123796e+17}, 8: {'aic': 3.0271268174962586e+17, 'bic': 3.027126817496348e+17}, 9: {'aic': 2.6028489862565184e+17, 'bic': 2.602848986256619e+17}, 10: {'aic': 2.466792726812322e+18, 'bic': 2.466792726812333e+18}, 11: {'aic': 2.3717855220866358e+17, 'bic': 2.3717855220867587e+17}, 12: {'aic': 2.4667927268123223e+18, 'bic': 2.4667927268123356e+18}, 13: {'aic': 2.5207391864039408e+17, 'bic': 2.5207391864040858e+17}, 14: {'aic': 3.980352788380548e+18, 'bic': 3.980352788380564e+18}, 15: {'aic': 2.8280805235859666e+18, 'bic': 2.8280805235859835e+18}, 16: {'aic': 2.8712964372138957e+18, 'bic': 2.871296437213913e+18}, 17: {'aic': 1.430073785937725e+18, 'bic': 1.430073785937744e+18}, 18: {'aic': 3.9329110150771487e+18, 'bic': 3.9329110150771686e+18}, 19: {'aic': 1.0601629824277503e+18, 'bic': 1.0601629824277715e+18}}\n"
     ]
    }
   ],
   "source": [
    "print(results)"
   ]
  },
  {
   "cell_type": "code",
   "execution_count": 87,
   "id": "eeaf08f3",
   "metadata": {},
   "outputs": [
    {
     "data": {
      "text/plain": [
       "<Axes: title={'center': 'BIC'}, xlabel='n_components'>"
      ]
     },
     "execution_count": 87,
     "metadata": {},
     "output_type": "execute_result"
    },
    {
     "data": {
      "image/png": "[encoded data removed]",
      "text/plain": [
       "<Figure size 640x480 with 1 Axes>"
      ]
     },
     "metadata": {},
     "output_type": "display_data"
    }
   ],
   "source": [
    "results_df = pd.DataFrame.from_dict(results, orient='index').reset_index()\n",
    "results_df.columns = ['n_components', 'aic', 'bic']\n",
    "results_df.plot(x='n_components', y='bic',title='BIC', xticks=results_df['n_components'], grid=True)"
   ]
  }
 ],
 "metadata": {
  "kernelspec": {
   "display_name": "Python 3 (ipykernel)",
   "language": "python",
   "name": "python3"
  },
  "language_info": {
   "codemirror_mode": {
    "name": "ipython",
    "version": 3
   },
   "file_extension": ".py",
   "mimetype": "text/x-python",
   "name": "python",
   "nbconvert_exporter": "python",
   "pygments_lexer": "ipython3",
   "version": "3.11.7"
  }
 },
 "nbformat": 4,
 "nbformat_minor": 5
}
