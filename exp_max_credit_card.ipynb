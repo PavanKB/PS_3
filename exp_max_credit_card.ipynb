{
 "cells": [
  {
   "cell_type": "code",
   "execution_count": 2,
   "id": "d34f51b3-92c4-4bd1-955b-e915e8fb1399",
   "metadata": {},
   "outputs": [
    {
     "name": "stderr",
     "output_type": "stream",
     "text": [
      "Intel(R) Extension for Scikit-learn* enabled (https://github.com/intel/scikit-learn-intelex)\n"
     ]
    }
   ],
   "source": [
    "from sklearnex import patch_sklearn\n",
    "patch_sklearn()\n",
    "\n",
    "import matplotlib.pyplot as plt\n",
    "import seaborn as sns\n",
    "\n",
    "import pandas as pd\n",
    "import numpy as np\n",
    "\n",
    "from sklearn.model_selection import cross_validate, train_test_split, GridSearchCV, LearningCurveDisplay, learning_curve, validation_curve\n",
    "from sklearn.preprocessing import OneHotEncoder, MinMaxScaler, StandardScaler, normalize\n",
    "from sklearn.pipeline import Pipeline\n",
    "from sklearn.compose import ColumnTransformer\n",
    "from sklearn.mixture import GaussianMixture\n",
    "from sklearn.metrics import (\n",
    "    silhouette_score\n",
    ")\n",
    "\n",
    "\n",
    "from utils import get_data, get_df_details, plot_distrb, make_confusion_matrix\n",
    "\n",
    "# sns.set_theme(rc={'figure.figsize':(11.7,8.27)})"
   ]
  },
  {
   "cell_type": "code",
   "execution_count": 3,
   "id": "456abf72-157a-4e58-bc50-06f277a7f41b",
   "metadata": {},
   "outputs": [
    {
     "data": {
      "text/html": [
       "<div>\n",
       "<style scoped>\n",
       "    .dataframe tbody tr th:only-of-type {\n",
       "        vertical-align: middle;\n",
       "    }\n",
       "\n",
       "    .dataframe tbody tr th {\n",
       "        vertical-align: top;\n",
       "    }\n",
       "\n",
       "    .dataframe thead th {\n",
       "        text-align: right;\n",
       "    }\n",
       "</style>\n",
       "<table border=\"1\" class=\"dataframe\">\n",
       "  <thead>\n",
       "    <tr style=\"text-align: right;\">\n",
       "      <th></th>\n",
       "      <th>BALANCE</th>\n",
       "      <th>BALANCE_FREQUENCY</th>\n",
       "      <th>PURCHASES</th>\n",
       "      <th>ONEOFF_PURCHASES</th>\n",
       "      <th>INSTALLMENTS_PURCHASES</th>\n",
       "      <th>CASH_ADVANCE</th>\n",
       "      <th>PURCHASES_FREQUENCY</th>\n",
       "      <th>ONEOFF_PURCHASES_FREQUENCY</th>\n",
       "      <th>PURCHASES_INSTALLMENTS_FREQUENCY</th>\n",
       "      <th>CASH_ADVANCE_FREQUENCY</th>\n",
       "      <th>CASH_ADVANCE_TRX</th>\n",
       "      <th>PURCHASES_TRX</th>\n",
       "      <th>CREDIT_LIMIT</th>\n",
       "      <th>PAYMENTS</th>\n",
       "      <th>MINIMUM_PAYMENTS</th>\n",
       "      <th>PRC_FULL_PAYMENT</th>\n",
       "      <th>TENURE</th>\n",
       "    </tr>\n",
       "  </thead>\n",
       "  <tbody>\n",
       "    <tr>\n",
       "      <th>0</th>\n",
       "      <td>40.900749</td>\n",
       "      <td>0.818182</td>\n",
       "      <td>95.40</td>\n",
       "      <td>0.00</td>\n",
       "      <td>95.4</td>\n",
       "      <td>0.000000</td>\n",
       "      <td>0.166667</td>\n",
       "      <td>0.000000</td>\n",
       "      <td>0.083333</td>\n",
       "      <td>0.000000</td>\n",
       "      <td>0</td>\n",
       "      <td>2</td>\n",
       "      <td>1000.0</td>\n",
       "      <td>201.802084</td>\n",
       "      <td>139.509787</td>\n",
       "      <td>0.000000</td>\n",
       "      <td>12</td>\n",
       "    </tr>\n",
       "    <tr>\n",
       "      <th>1</th>\n",
       "      <td>3202.467416</td>\n",
       "      <td>0.909091</td>\n",
       "      <td>0.00</td>\n",
       "      <td>0.00</td>\n",
       "      <td>0.0</td>\n",
       "      <td>6442.945483</td>\n",
       "      <td>0.000000</td>\n",
       "      <td>0.000000</td>\n",
       "      <td>0.000000</td>\n",
       "      <td>0.250000</td>\n",
       "      <td>4</td>\n",
       "      <td>0</td>\n",
       "      <td>7000.0</td>\n",
       "      <td>4103.032597</td>\n",
       "      <td>1072.340217</td>\n",
       "      <td>0.222222</td>\n",
       "      <td>12</td>\n",
       "    </tr>\n",
       "    <tr>\n",
       "      <th>2</th>\n",
       "      <td>2495.148862</td>\n",
       "      <td>1.000000</td>\n",
       "      <td>773.17</td>\n",
       "      <td>773.17</td>\n",
       "      <td>0.0</td>\n",
       "      <td>0.000000</td>\n",
       "      <td>1.000000</td>\n",
       "      <td>1.000000</td>\n",
       "      <td>0.000000</td>\n",
       "      <td>0.000000</td>\n",
       "      <td>0</td>\n",
       "      <td>12</td>\n",
       "      <td>7500.0</td>\n",
       "      <td>622.066742</td>\n",
       "      <td>627.284787</td>\n",
       "      <td>0.000000</td>\n",
       "      <td>12</td>\n",
       "    </tr>\n",
       "    <tr>\n",
       "      <th>3</th>\n",
       "      <td>1666.670542</td>\n",
       "      <td>0.636364</td>\n",
       "      <td>1499.00</td>\n",
       "      <td>1499.00</td>\n",
       "      <td>0.0</td>\n",
       "      <td>205.788017</td>\n",
       "      <td>0.083333</td>\n",
       "      <td>0.083333</td>\n",
       "      <td>0.000000</td>\n",
       "      <td>0.083333</td>\n",
       "      <td>1</td>\n",
       "      <td>1</td>\n",
       "      <td>7500.0</td>\n",
       "      <td>0.000000</td>\n",
       "      <td>627.284787</td>\n",
       "      <td>0.000000</td>\n",
       "      <td>12</td>\n",
       "    </tr>\n",
       "    <tr>\n",
       "      <th>4</th>\n",
       "      <td>817.714335</td>\n",
       "      <td>1.000000</td>\n",
       "      <td>16.00</td>\n",
       "      <td>16.00</td>\n",
       "      <td>0.0</td>\n",
       "      <td>0.000000</td>\n",
       "      <td>0.083333</td>\n",
       "      <td>0.083333</td>\n",
       "      <td>0.000000</td>\n",
       "      <td>0.000000</td>\n",
       "      <td>0</td>\n",
       "      <td>1</td>\n",
       "      <td>1200.0</td>\n",
       "      <td>678.334763</td>\n",
       "      <td>244.791237</td>\n",
       "      <td>0.000000</td>\n",
       "      <td>12</td>\n",
       "    </tr>\n",
       "  </tbody>\n",
       "</table>\n",
       "</div>"
      ],
      "text/plain": [
       "       BALANCE  BALANCE_FREQUENCY  PURCHASES  ONEOFF_PURCHASES  \\\n",
       "0    40.900749           0.818182      95.40              0.00   \n",
       "1  3202.467416           0.909091       0.00              0.00   \n",
       "2  2495.148862           1.000000     773.17            773.17   \n",
       "3  1666.670542           0.636364    1499.00           1499.00   \n",
       "4   817.714335           1.000000      16.00             16.00   \n",
       "\n",
       "   INSTALLMENTS_PURCHASES  CASH_ADVANCE  PURCHASES_FREQUENCY  \\\n",
       "0                    95.4      0.000000             0.166667   \n",
       "1                     0.0   6442.945483             0.000000   \n",
       "2                     0.0      0.000000             1.000000   \n",
       "3                     0.0    205.788017             0.083333   \n",
       "4                     0.0      0.000000             0.083333   \n",
       "\n",
       "   ONEOFF_PURCHASES_FREQUENCY  PURCHASES_INSTALLMENTS_FREQUENCY  \\\n",
       "0                    0.000000                          0.083333   \n",
       "1                    0.000000                          0.000000   \n",
       "2                    1.000000                          0.000000   \n",
       "3                    0.083333                          0.000000   \n",
       "4                    0.083333                          0.000000   \n",
       "\n",
       "   CASH_ADVANCE_FREQUENCY  CASH_ADVANCE_TRX  PURCHASES_TRX  CREDIT_LIMIT  \\\n",
       "0                0.000000                 0              2        1000.0   \n",
       "1                0.250000                 4              0        7000.0   \n",
       "2                0.000000                 0             12        7500.0   \n",
       "3                0.083333                 1              1        7500.0   \n",
       "4                0.000000                 0              1        1200.0   \n",
       "\n",
       "      PAYMENTS  MINIMUM_PAYMENTS  PRC_FULL_PAYMENT  TENURE  \n",
       "0   201.802084        139.509787          0.000000      12  \n",
       "1  4103.032597       1072.340217          0.222222      12  \n",
       "2   622.066742        627.284787          0.000000      12  \n",
       "3     0.000000        627.284787          0.000000      12  \n",
       "4   678.334763        244.791237          0.000000      12  "
      ]
     },
     "execution_count": 3,
     "metadata": {},
     "output_type": "execute_result"
    }
   ],
   "source": [
    "X = pd.read_csv('data/CC GENERAL.csv')\n",
    "X.drop(columns=['CUST_ID'], inplace=True)\n",
    "X.ffill(inplace=True)\n",
    "X.head()"
   ]
  },
  {
   "cell_type": "code",
   "execution_count": 4,
   "id": "d33ec8e9-0893-4575-9835-86c020c2de53",
   "metadata": {},
   "outputs": [],
   "source": [
    "# Split data into train and test sets.\n",
    "\n",
    "TEST_SIZE = 0.2\n",
    "RANDOM_STATE = 42\n",
    "\n",
    "X_train, X_test, _, _ = train_test_split(X, X, test_size=TEST_SIZE, random_state=RANDOM_STATE)"
   ]
  },
  {
   "cell_type": "code",
   "execution_count": 5,
   "id": "b5ccf93f-3424-4b45-aaae-304fc9e1d3c5",
   "metadata": {},
   "outputs": [],
   "source": [
    "num_cols = X.columns"
   ]
  },
  {
   "cell_type": "markdown",
   "id": "2be4348c-44f9-4799-b3e2-f0bdeca7e04f",
   "metadata": {},
   "source": [
    "# Train the Expectation Maximisation"
   ]
  },
  {
   "cell_type": "code",
   "execution_count": 6,
   "id": "6030238f-f166-42f7-844e-d1a2d2270cf1",
   "metadata": {},
   "outputs": [],
   "source": [
    "RANDOM_STATE = 42\n",
    "# N_FOLDS = 5\n",
    "N_JOBS = -1\n",
    "VERBOSE = 4\n",
    "\n",
    "\n",
    "# Use minmax scaler for simplicity, scalability, avoids assumption of distribution and there are no outliers in data\n",
    "num_pipeline = Pipeline(steps=[\n",
    "    # ('scale', MinMaxScaler()),\n",
    "    ('scale', StandardScaler())\n",
    "])\n",
    "# cat_pipeline = Pipeline(steps=[\n",
    "#     ('one-hot', OneHotEncoder(handle_unknown='ignore', drop='if_binary', sparse=False))\n",
    "# ])\n",
    "\n",
    "col_trans = ColumnTransformer(\n",
    "    transformers=[\n",
    "        ('num_pipeline', num_pipeline, num_cols),\n",
    "        # ('cat_pipeline', cat_pipeline, cat_cols)\n",
    "        ],\n",
    "    remainder='drop',\n",
    "    n_jobs=N_JOBS)\n",
    "\n",
    "# For KMeans use the default algo, max_iterations, init='k-means++'\n",
    "# clus = GaussianMixture(n_init=100, init_params='k-means++', random_state=RANDOM_STATE, covariance_type='full')\n",
    "clus = GaussianMixture(random_state=RANDOM_STATE)\n",
    "clus_pipeline = Pipeline(steps=[\n",
    "    ('col_trans', col_trans),\n",
    "    ('model', clus)\n",
    "])\n"
   ]
  },
  {
   "cell_type": "code",
   "execution_count": 61,
   "id": "74de77b5",
   "metadata": {},
   "outputs": [
    {
     "data": {
      "text/html": [
       "<style>#sk-container-id-13 {color: black;}#sk-container-id-13 pre{padding: 0;}#sk-container-id-13 div.sk-toggleable {background-color: white;}#sk-container-id-13 label.sk-toggleable__label {cursor: pointer;display: block;width: 100%;margin-bottom: 0;padding: 0.3em;box-sizing: border-box;text-align: center;}#sk-container-id-13 label.sk-toggleable__label-arrow:before {content: \"▸\";float: left;margin-right: 0.25em;color: #696969;}#sk-container-id-13 label.sk-toggleable__label-arrow:hover:before {color: black;}#sk-container-id-13 div.sk-estimator:hover label.sk-toggleable__label-arrow:before {color: black;}#sk-container-id-13 div.sk-toggleable__content {max-height: 0;max-width: 0;overflow: hidden;text-align: left;background-color: #f0f8ff;}#sk-container-id-13 div.sk-toggleable__content pre {margin: 0.2em;color: black;border-radius: 0.25em;background-color: #f0f8ff;}#sk-container-id-13 input.sk-toggleable__control:checked~div.sk-toggleable__content {max-height: 200px;max-width: 100%;overflow: auto;}#sk-container-id-13 input.sk-toggleable__control:checked~label.sk-toggleable__label-arrow:before {content: \"▾\";}#sk-container-id-13 div.sk-estimator input.sk-toggleable__control:checked~label.sk-toggleable__label {background-color: #d4ebff;}#sk-container-id-13 div.sk-label input.sk-toggleable__control:checked~label.sk-toggleable__label {background-color: #d4ebff;}#sk-container-id-13 input.sk-hidden--visually {border: 0;clip: rect(1px 1px 1px 1px);clip: rect(1px, 1px, 1px, 1px);height: 1px;margin: -1px;overflow: hidden;padding: 0;position: absolute;width: 1px;}#sk-container-id-13 div.sk-estimator {font-family: monospace;background-color: #f0f8ff;border: 1px dotted black;border-radius: 0.25em;box-sizing: border-box;margin-bottom: 0.5em;}#sk-container-id-13 div.sk-estimator:hover {background-color: #d4ebff;}#sk-container-id-13 div.sk-parallel-item::after {content: \"\";width: 100%;border-bottom: 1px solid gray;flex-grow: 1;}#sk-container-id-13 div.sk-label:hover label.sk-toggleable__label {background-color: #d4ebff;}#sk-container-id-13 div.sk-serial::before {content: \"\";position: absolute;border-left: 1px solid gray;box-sizing: border-box;top: 0;bottom: 0;left: 50%;z-index: 0;}#sk-container-id-13 div.sk-serial {display: flex;flex-direction: column;align-items: center;background-color: white;padding-right: 0.2em;padding-left: 0.2em;position: relative;}#sk-container-id-13 div.sk-item {position: relative;z-index: 1;}#sk-container-id-13 div.sk-parallel {display: flex;align-items: stretch;justify-content: center;background-color: white;position: relative;}#sk-container-id-13 div.sk-item::before, #sk-container-id-13 div.sk-parallel-item::before {content: \"\";position: absolute;border-left: 1px solid gray;box-sizing: border-box;top: 0;bottom: 0;left: 50%;z-index: -1;}#sk-container-id-13 div.sk-parallel-item {display: flex;flex-direction: column;z-index: 1;position: relative;background-color: white;}#sk-container-id-13 div.sk-parallel-item:first-child::after {align-self: flex-end;width: 50%;}#sk-container-id-13 div.sk-parallel-item:last-child::after {align-self: flex-start;width: 50%;}#sk-container-id-13 div.sk-parallel-item:only-child::after {width: 0;}#sk-container-id-13 div.sk-dashed-wrapped {border: 1px dashed gray;margin: 0 0.4em 0.5em 0.4em;box-sizing: border-box;padding-bottom: 0.4em;background-color: white;}#sk-container-id-13 div.sk-label label {font-family: monospace;font-weight: bold;display: inline-block;line-height: 1.2em;}#sk-container-id-13 div.sk-label-container {text-align: center;}#sk-container-id-13 div.sk-container {/* jupyter's `normalize.less` sets `[hidden] { display: none; }` but bootstrap.min.css set `[hidden] { display: none !important; }` so we also need the `!important` here to be able to override the default hidden behavior on the sphinx rendered scikit-learn.org. See: https://github.com/scikit-learn/scikit-learn/issues/21755 */display: inline-block !important;position: relative;}#sk-container-id-13 div.sk-text-repr-fallback {display: none;}</style><div id=\"sk-container-id-13\" class=\"sk-top-container\"><div class=\"sk-text-repr-fallback\"><pre>GaussianMixture(n_components=2)</pre><b>In a Jupyter environment, please rerun this cell to show the HTML representation or trust the notebook. <br />On GitHub, the HTML representation is unable to render, please try loading this page with nbviewer.org.</b></div><div class=\"sk-container\" hidden><div class=\"sk-item\"><div class=\"sk-estimator sk-toggleable\"><input class=\"sk-toggleable__control sk-hidden--visually\" id=\"sk-estimator-id-45\" type=\"checkbox\" checked><label for=\"sk-estimator-id-45\" class=\"sk-toggleable__label sk-toggleable__label-arrow\">GaussianMixture</label><div class=\"sk-toggleable__content\"><pre>GaussianMixture(n_components=2)</pre></div></div></div></div></div>"
      ],
      "text/plain": [
       "GaussianMixture(n_components=2)"
      ]
     },
     "execution_count": 61,
     "metadata": {},
     "output_type": "execute_result"
    }
   ],
   "source": [
    "# from sklearn.decomposition import PCA\n",
    "# scaler = StandardScaler() \n",
    "# scaled_df = scaler.fit_transform(X_train) \n",
    "  \n",
    "# # Normalizing the Data \n",
    "# normalized_df = normalize(scaled_df) \n",
    "  \n",
    "# # Converting the numpy array into a pandas DataFrame \n",
    "# normalized_df = pd.DataFrame(normalized_df) \n",
    "# pca = PCA(n_components = 2) \n",
    "# X_principal = pca.fit_transform(normalized_df) \n",
    "# X_principal = pd.DataFrame(X_principal) \n",
    "# X_principal.columns = ['P1', 'P2'] \n",
    "\n",
    "# gmm = GaussianMixture(n_components = 2) \n",
    "# gmm.fit(X_principal)\n",
    "\n",
    "# print(gmm.aic(X_principal))\n",
    "# print(gmm.bic(X_principal))"
   ]
  },
  {
   "cell_type": "code",
   "execution_count": 7,
   "id": "81f72a18-de25-4ba9-be0c-592e41526ff7",
   "metadata": {},
   "outputs": [
    {
     "data": {
      "text/html": [
       "<style>#sk-container-id-1 {color: black;}#sk-container-id-1 pre{padding: 0;}#sk-container-id-1 div.sk-toggleable {background-color: white;}#sk-container-id-1 label.sk-toggleable__label {cursor: pointer;display: block;width: 100%;margin-bottom: 0;padding: 0.3em;box-sizing: border-box;text-align: center;}#sk-container-id-1 label.sk-toggleable__label-arrow:before {content: \"▸\";float: left;margin-right: 0.25em;color: #696969;}#sk-container-id-1 label.sk-toggleable__label-arrow:hover:before {color: black;}#sk-container-id-1 div.sk-estimator:hover label.sk-toggleable__label-arrow:before {color: black;}#sk-container-id-1 div.sk-toggleable__content {max-height: 0;max-width: 0;overflow: hidden;text-align: left;background-color: #f0f8ff;}#sk-container-id-1 div.sk-toggleable__content pre {margin: 0.2em;color: black;border-radius: 0.25em;background-color: #f0f8ff;}#sk-container-id-1 input.sk-toggleable__control:checked~div.sk-toggleable__content {max-height: 200px;max-width: 100%;overflow: auto;}#sk-container-id-1 input.sk-toggleable__control:checked~label.sk-toggleable__label-arrow:before {content: \"▾\";}#sk-container-id-1 div.sk-estimator input.sk-toggleable__control:checked~label.sk-toggleable__label {background-color: #d4ebff;}#sk-container-id-1 div.sk-label input.sk-toggleable__control:checked~label.sk-toggleable__label {background-color: #d4ebff;}#sk-container-id-1 input.sk-hidden--visually {border: 0;clip: rect(1px 1px 1px 1px);clip: rect(1px, 1px, 1px, 1px);height: 1px;margin: -1px;overflow: hidden;padding: 0;position: absolute;width: 1px;}#sk-container-id-1 div.sk-estimator {font-family: monospace;background-color: #f0f8ff;border: 1px dotted black;border-radius: 0.25em;box-sizing: border-box;margin-bottom: 0.5em;}#sk-container-id-1 div.sk-estimator:hover {background-color: #d4ebff;}#sk-container-id-1 div.sk-parallel-item::after {content: \"\";width: 100%;border-bottom: 1px solid gray;flex-grow: 1;}#sk-container-id-1 div.sk-label:hover label.sk-toggleable__label {background-color: #d4ebff;}#sk-container-id-1 div.sk-serial::before {content: \"\";position: absolute;border-left: 1px solid gray;box-sizing: border-box;top: 0;bottom: 0;left: 50%;z-index: 0;}#sk-container-id-1 div.sk-serial {display: flex;flex-direction: column;align-items: center;background-color: white;padding-right: 0.2em;padding-left: 0.2em;position: relative;}#sk-container-id-1 div.sk-item {position: relative;z-index: 1;}#sk-container-id-1 div.sk-parallel {display: flex;align-items: stretch;justify-content: center;background-color: white;position: relative;}#sk-container-id-1 div.sk-item::before, #sk-container-id-1 div.sk-parallel-item::before {content: \"\";position: absolute;border-left: 1px solid gray;box-sizing: border-box;top: 0;bottom: 0;left: 50%;z-index: -1;}#sk-container-id-1 div.sk-parallel-item {display: flex;flex-direction: column;z-index: 1;position: relative;background-color: white;}#sk-container-id-1 div.sk-parallel-item:first-child::after {align-self: flex-end;width: 50%;}#sk-container-id-1 div.sk-parallel-item:last-child::after {align-self: flex-start;width: 50%;}#sk-container-id-1 div.sk-parallel-item:only-child::after {width: 0;}#sk-container-id-1 div.sk-dashed-wrapped {border: 1px dashed gray;margin: 0 0.4em 0.5em 0.4em;box-sizing: border-box;padding-bottom: 0.4em;background-color: white;}#sk-container-id-1 div.sk-label label {font-family: monospace;font-weight: bold;display: inline-block;line-height: 1.2em;}#sk-container-id-1 div.sk-label-container {text-align: center;}#sk-container-id-1 div.sk-container {/* jupyter's `normalize.less` sets `[hidden] { display: none; }` but bootstrap.min.css set `[hidden] { display: none !important; }` so we also need the `!important` here to be able to override the default hidden behavior on the sphinx rendered scikit-learn.org. See: https://github.com/scikit-learn/scikit-learn/issues/21755 */display: inline-block !important;position: relative;}#sk-container-id-1 div.sk-text-repr-fallback {display: none;}</style><div id=\"sk-container-id-1\" class=\"sk-top-container\"><div class=\"sk-text-repr-fallback\"><pre>Pipeline(steps=[(&#x27;col_trans&#x27;,\n",
       "                 ColumnTransformer(n_jobs=-1,\n",
       "                                   transformers=[(&#x27;num_pipeline&#x27;,\n",
       "                                                  Pipeline(steps=[(&#x27;scale&#x27;,\n",
       "                                                                   StandardScaler())]),\n",
       "                                                  Index([&#x27;BALANCE&#x27;, &#x27;BALANCE_FREQUENCY&#x27;, &#x27;PURCHASES&#x27;, &#x27;ONEOFF_PURCHASES&#x27;,\n",
       "       &#x27;INSTALLMENTS_PURCHASES&#x27;, &#x27;CASH_ADVANCE&#x27;, &#x27;PURCHASES_FREQUENCY&#x27;,\n",
       "       &#x27;ONEOFF_PURCHASES_FREQUENCY&#x27;, &#x27;PURCHASES_INSTALLMENTS_FREQUENCY&#x27;,\n",
       "       &#x27;CASH_ADVANCE_FREQUENCY&#x27;, &#x27;CASH_ADVANCE_TRX&#x27;, &#x27;PURCHASES_TRX&#x27;,\n",
       "       &#x27;CREDIT_LIMIT&#x27;, &#x27;PAYMENTS&#x27;, &#x27;MINIMUM_PAYMENTS&#x27;, &#x27;PRC_FULL_PAYMENT&#x27;,\n",
       "       &#x27;TENURE&#x27;],\n",
       "      dtype=&#x27;object&#x27;))])),\n",
       "                (&#x27;model&#x27;, GaussianMixture(n_components=3, random_state=42))])</pre><b>In a Jupyter environment, please rerun this cell to show the HTML representation or trust the notebook. <br />On GitHub, the HTML representation is unable to render, please try loading this page with nbviewer.org.</b></div><div class=\"sk-container\" hidden><div class=\"sk-item sk-dashed-wrapped\"><div class=\"sk-label-container\"><div class=\"sk-label sk-toggleable\"><input class=\"sk-toggleable__control sk-hidden--visually\" id=\"sk-estimator-id-1\" type=\"checkbox\" ><label for=\"sk-estimator-id-1\" class=\"sk-toggleable__label sk-toggleable__label-arrow\">Pipeline</label><div class=\"sk-toggleable__content\"><pre>Pipeline(steps=[(&#x27;col_trans&#x27;,\n",
       "                 ColumnTransformer(n_jobs=-1,\n",
       "                                   transformers=[(&#x27;num_pipeline&#x27;,\n",
       "                                                  Pipeline(steps=[(&#x27;scale&#x27;,\n",
       "                                                                   StandardScaler())]),\n",
       "                                                  Index([&#x27;BALANCE&#x27;, &#x27;BALANCE_FREQUENCY&#x27;, &#x27;PURCHASES&#x27;, &#x27;ONEOFF_PURCHASES&#x27;,\n",
       "       &#x27;INSTALLMENTS_PURCHASES&#x27;, &#x27;CASH_ADVANCE&#x27;, &#x27;PURCHASES_FREQUENCY&#x27;,\n",
       "       &#x27;ONEOFF_PURCHASES_FREQUENCY&#x27;, &#x27;PURCHASES_INSTALLMENTS_FREQUENCY&#x27;,\n",
       "       &#x27;CASH_ADVANCE_FREQUENCY&#x27;, &#x27;CASH_ADVANCE_TRX&#x27;, &#x27;PURCHASES_TRX&#x27;,\n",
       "       &#x27;CREDIT_LIMIT&#x27;, &#x27;PAYMENTS&#x27;, &#x27;MINIMUM_PAYMENTS&#x27;, &#x27;PRC_FULL_PAYMENT&#x27;,\n",
       "       &#x27;TENURE&#x27;],\n",
       "      dtype=&#x27;object&#x27;))])),\n",
       "                (&#x27;model&#x27;, GaussianMixture(n_components=3, random_state=42))])</pre></div></div></div><div class=\"sk-serial\"><div class=\"sk-item sk-dashed-wrapped\"><div class=\"sk-label-container\"><div class=\"sk-label sk-toggleable\"><input class=\"sk-toggleable__control sk-hidden--visually\" id=\"sk-estimator-id-2\" type=\"checkbox\" ><label for=\"sk-estimator-id-2\" class=\"sk-toggleable__label sk-toggleable__label-arrow\">col_trans: ColumnTransformer</label><div class=\"sk-toggleable__content\"><pre>ColumnTransformer(n_jobs=-1,\n",
       "                  transformers=[(&#x27;num_pipeline&#x27;,\n",
       "                                 Pipeline(steps=[(&#x27;scale&#x27;, StandardScaler())]),\n",
       "                                 Index([&#x27;BALANCE&#x27;, &#x27;BALANCE_FREQUENCY&#x27;, &#x27;PURCHASES&#x27;, &#x27;ONEOFF_PURCHASES&#x27;,\n",
       "       &#x27;INSTALLMENTS_PURCHASES&#x27;, &#x27;CASH_ADVANCE&#x27;, &#x27;PURCHASES_FREQUENCY&#x27;,\n",
       "       &#x27;ONEOFF_PURCHASES_FREQUENCY&#x27;, &#x27;PURCHASES_INSTALLMENTS_FREQUENCY&#x27;,\n",
       "       &#x27;CASH_ADVANCE_FREQUENCY&#x27;, &#x27;CASH_ADVANCE_TRX&#x27;, &#x27;PURCHASES_TRX&#x27;,\n",
       "       &#x27;CREDIT_LIMIT&#x27;, &#x27;PAYMENTS&#x27;, &#x27;MINIMUM_PAYMENTS&#x27;, &#x27;PRC_FULL_PAYMENT&#x27;,\n",
       "       &#x27;TENURE&#x27;],\n",
       "      dtype=&#x27;object&#x27;))])</pre></div></div></div><div class=\"sk-parallel\"><div class=\"sk-parallel-item\"><div class=\"sk-item\"><div class=\"sk-label-container\"><div class=\"sk-label sk-toggleable\"><input class=\"sk-toggleable__control sk-hidden--visually\" id=\"sk-estimator-id-3\" type=\"checkbox\" ><label for=\"sk-estimator-id-3\" class=\"sk-toggleable__label sk-toggleable__label-arrow\">num_pipeline</label><div class=\"sk-toggleable__content\"><pre>Index([&#x27;BALANCE&#x27;, &#x27;BALANCE_FREQUENCY&#x27;, &#x27;PURCHASES&#x27;, &#x27;ONEOFF_PURCHASES&#x27;,\n",
       "       &#x27;INSTALLMENTS_PURCHASES&#x27;, &#x27;CASH_ADVANCE&#x27;, &#x27;PURCHASES_FREQUENCY&#x27;,\n",
       "       &#x27;ONEOFF_PURCHASES_FREQUENCY&#x27;, &#x27;PURCHASES_INSTALLMENTS_FREQUENCY&#x27;,\n",
       "       &#x27;CASH_ADVANCE_FREQUENCY&#x27;, &#x27;CASH_ADVANCE_TRX&#x27;, &#x27;PURCHASES_TRX&#x27;,\n",
       "       &#x27;CREDIT_LIMIT&#x27;, &#x27;PAYMENTS&#x27;, &#x27;MINIMUM_PAYMENTS&#x27;, &#x27;PRC_FULL_PAYMENT&#x27;,\n",
       "       &#x27;TENURE&#x27;],\n",
       "      dtype=&#x27;object&#x27;)</pre></div></div></div><div class=\"sk-serial\"><div class=\"sk-item\"><div class=\"sk-serial\"><div class=\"sk-item\"><div class=\"sk-estimator sk-toggleable\"><input class=\"sk-toggleable__control sk-hidden--visually\" id=\"sk-estimator-id-4\" type=\"checkbox\" ><label for=\"sk-estimator-id-4\" class=\"sk-toggleable__label sk-toggleable__label-arrow\">StandardScaler</label><div class=\"sk-toggleable__content\"><pre>StandardScaler()</pre></div></div></div></div></div></div></div></div></div></div><div class=\"sk-item\"><div class=\"sk-estimator sk-toggleable\"><input class=\"sk-toggleable__control sk-hidden--visually\" id=\"sk-estimator-id-5\" type=\"checkbox\" ><label for=\"sk-estimator-id-5\" class=\"sk-toggleable__label sk-toggleable__label-arrow\">GaussianMixture</label><div class=\"sk-toggleable__content\"><pre>GaussianMixture(n_components=3, random_state=42)</pre></div></div></div></div></div></div></div>"
      ],
      "text/plain": [
       "Pipeline(steps=[('col_trans',\n",
       "                 ColumnTransformer(n_jobs=-1,\n",
       "                                   transformers=[('num_pipeline',\n",
       "                                                  Pipeline(steps=[('scale',\n",
       "                                                                   StandardScaler())]),\n",
       "                                                  Index(['BALANCE', 'BALANCE_FREQUENCY', 'PURCHASES', 'ONEOFF_PURCHASES',\n",
       "       'INSTALLMENTS_PURCHASES', 'CASH_ADVANCE', 'PURCHASES_FREQUENCY',\n",
       "       'ONEOFF_PURCHASES_FREQUENCY', 'PURCHASES_INSTALLMENTS_FREQUENCY',\n",
       "       'CASH_ADVANCE_FREQUENCY', 'CASH_ADVANCE_TRX', 'PURCHASES_TRX',\n",
       "       'CREDIT_LIMIT', 'PAYMENTS', 'MINIMUM_PAYMENTS', 'PRC_FULL_PAYMENT',\n",
       "       'TENURE'],\n",
       "      dtype='object'))])),\n",
       "                ('model', GaussianMixture(n_components=3, random_state=42))])"
      ]
     },
     "execution_count": 7,
     "metadata": {},
     "output_type": "execute_result"
    }
   ],
   "source": [
    "clus_pipeline.set_params(model__n_components=3)\n",
    "clus_pipeline.fit(X_train)"
   ]
  },
  {
   "cell_type": "code",
   "execution_count": 8,
   "id": "4504a932-77c0-4ea5-ac9e-666b3de9f547",
   "metadata": {},
   "outputs": [
    {
     "name": "stdout",
     "output_type": "stream",
     "text": [
      "495562130870121.06\n",
      "495562130873641.7\n"
     ]
    },
    {
     "name": "stderr",
     "output_type": "stream",
     "text": [
      "c:\\Users\\pavan\\anaconda3\\envs\\ml\\Lib\\site-packages\\sklearn\\base.py:458: UserWarning: X has feature names, but GaussianMixture was fitted without feature names\n",
      "  warnings.warn(\n",
      "c:\\Users\\pavan\\anaconda3\\envs\\ml\\Lib\\site-packages\\sklearn\\base.py:458: UserWarning: X has feature names, but GaussianMixture was fitted without feature names\n",
      "  warnings.warn(\n"
     ]
    }
   ],
   "source": [
    "print(clus_pipeline.named_steps['model'].aic(X_train))\n",
    "print(clus_pipeline.named_steps['model'].bic(X_train))"
   ]
  },
  {
   "cell_type": "code",
   "execution_count": 16,
   "id": "4fca67e6",
   "metadata": {},
   "outputs": [
    {
     "name": "stdout",
     "output_type": "stream",
     "text": [
      "---------- n_components: 2 ----------\n",
      "---------- n_components: 3 ----------\n",
      "---------- n_components: 4 ----------\n",
      "---------- n_components: 5 ----------\n",
      "---------- n_components: 6 ----------\n",
      "---------- n_components: 7 ----------\n",
      "---------- n_components: 8 ----------\n",
      "---------- n_components: 9 ----------\n",
      "---------- n_components: 10 ----------\n",
      "---------- n_components: 11 ----------\n",
      "---------- n_components: 12 ----------\n",
      "---------- n_components: 13 ----------\n",
      "---------- n_components: 14 ----------\n",
      "---------- n_components: 15 ----------\n",
      "---------- n_components: 16 ----------\n",
      "---------- n_components: 17 ----------\n",
      "---------- n_components: 18 ----------\n",
      "---------- n_components: 19 ----------\n"
     ]
    }
   ],
   "source": [
    "results = {}\n",
    "for n_components in range(2, 20):\n",
    "    print(f\"---------- n_components: {n_components} ----------\")\n",
    "    clus_pipeline.set_params(model__n_components=n_components)\n",
    "    clus_pipeline.fit(X_train)\n",
    "    \n",
    "    # clus_labels = clus_pipeline.named_steps['model'].labels_\n",
    "    # sil_score = silhouette_score(X_train, clus_labels)\n",
    "    \n",
    "    results[n_components] = {'aic': clus_pipeline.named_steps['model'].aic(X_train.values),\n",
    "                             'bic': clus_pipeline.named_steps['model'].bic(X_train.values),\n",
    "                             # 'sil_score': sil_score\n",
    "                           }"
   ]
  },
  {
   "cell_type": "code",
   "execution_count": 17,
   "id": "c1a26714-5c21-4662-839d-97206eeebc73",
   "metadata": {},
   "outputs": [
    {
     "name": "stdout",
     "output_type": "stream",
     "text": [
      "{2: {'aic': 141698677528003.3, 'bic': 141698677530348.12}, 3: {'aic': 495562130870121.06, 'bic': 495562130873641.7}, 4: {'aic': 408345216504158.5, 'bic': 408345216508855.0}, 5: {'aic': 1428419085006405.0, 'bic': 1428419085012277.2}, 6: {'aic': 288689142591285.75, 'bic': 288689142598333.94}, 7: {'aic': 274303943069045.84, 'bic': 274303943077269.84}, 8: {'aic': 349768757513735.25, 'bic': 349768757523135.1}, 9: {'aic': 97610147197196.78, 'bic': 97610147207772.48}, 10: {'aic': 93351693849289.22, 'bic': 93351693861040.75}, 11: {'aic': 78869812014065.94, 'bic': 78869812026993.31}, 12: {'aic': 91027728939603.06, 'bic': 91027728953706.28}, 13: {'aic': 596467428030484.6, 'bic': 596467428045763.6}, 14: {'aic': 203967669981332.2, 'bic': 203967669997787.1}, 15: {'aic': 258218658131298.2, 'bic': 258218658148928.94}, 16: {'aic': 116854615531575.8, 'bic': 116854615550382.38}, 17: {'aic': 98843090089572.22, 'bic': 98843090109554.64}, 18: {'aic': 107287367757909.83, 'bic': 107287367779068.1}, 19: {'aic': 51819601182972.88, 'bic': 51819601205306.99}}\n"
     ]
    }
   ],
   "source": [
    "print(results)"
   ]
  },
  {
   "cell_type": "code",
   "execution_count": 23,
   "id": "705a46e8-9935-4894-86c6-c030d8a0b6ab",
   "metadata": {},
   "outputs": [
    {
     "data": {
      "text/plain": [
       "<Axes: title={'center': 'BIC'}, xlabel='n_components'>"
      ]
     },
     "execution_count": 23,
     "metadata": {},
     "output_type": "execute_result"
    },
    {
     "data": {
      "image/png": "[encoded data removed]",
      "text/plain": [
       "<Figure size 640x480 with 1 Axes>"
      ]
     },
     "metadata": {},
     "output_type": "display_data"
    }
   ],
   "source": [
    "results_df = pd.DataFrame.from_dict(results, orient='index').reset_index()\n",
    "results_df.columns = ['n_components', 'aic', 'bic']\n",
    "results_df.plot(x='n_components', y='bic',title='BIC', xticks=results_df['n_components'], grid=True)"
   ]
  },
  {
   "cell_type": "code",
   "execution_count": null,
   "id": "2c547fdf-5aec-44f6-a3bf-46004241bd37",
   "metadata": {},
   "outputs": [],
   "source": []
  },
  {
   "cell_type": "markdown",
   "id": "55973ca1-a184-4cf6-a22f-c277ef78bebf",
   "metadata": {},
   "source": [
    "# Tune the KMeans"
   ]
  },
  {
   "cell_type": "code",
   "execution_count": 67,
   "id": "dfc79282-b582-45c1-8683-1b14ade097ef",
   "metadata": {},
   "outputs": [
    {
     "name": "stdout",
     "output_type": "stream",
     "text": [
      "------------------ n_clusters ------------------\n",
      "Fitting 5 folds for each of 19 candidates, totalling 95 fits\n"
     ]
    },
    {
     "name": "stderr",
     "output_type": "stream",
     "text": [
      "C:\\Users\\pavan\\anaconda3\\envs\\ml\\Lib\\site-packages\\sklearn\\model_selection\\_search.py:979: UserWarning: One or more of the test scores are non-finite: [nan nan nan nan nan nan nan nan nan nan nan nan nan nan nan nan nan nan\n",
      " nan]\n",
      "  warnings.warn(\n",
      "C:\\Users\\pavan\\anaconda3\\envs\\ml\\Lib\\site-packages\\sklearn\\model_selection\\_search.py:979: UserWarning: One or more of the train scores are non-finite: [nan nan nan nan nan nan nan nan nan nan nan nan nan nan nan nan nan nan\n",
      " nan]\n",
      "  warnings.warn(\n"
     ]
    },
    {
     "name": "stdout",
     "output_type": "stream",
     "text": [
      "------------------ n_init ------------------\n",
      "Fitting 5 folds for each of 10 candidates, totalling 50 fits\n"
     ]
    },
    {
     "name": "stderr",
     "output_type": "stream",
     "text": [
      "C:\\Users\\pavan\\anaconda3\\envs\\ml\\Lib\\site-packages\\sklearn\\model_selection\\_search.py:979: UserWarning: One or more of the test scores are non-finite: [nan nan nan nan nan nan nan nan nan nan]\n",
      "  warnings.warn(\n",
      "C:\\Users\\pavan\\anaconda3\\envs\\ml\\Lib\\site-packages\\sklearn\\model_selection\\_search.py:979: UserWarning: One or more of the train scores are non-finite: [nan nan nan nan nan nan nan nan nan nan]\n",
      "  warnings.warn(\n"
     ]
    },
    {
     "name": "stdout",
     "output_type": "stream",
     "text": [
      "------------------ init ------------------\n",
      "Fitting 5 folds for each of 2 candidates, totalling 10 fits\n"
     ]
    },
    {
     "name": "stderr",
     "output_type": "stream",
     "text": [
      "C:\\Users\\pavan\\anaconda3\\envs\\ml\\Lib\\site-packages\\sklearn\\model_selection\\_search.py:979: UserWarning: One or more of the test scores are non-finite: [nan nan]\n",
      "  warnings.warn(\n",
      "C:\\Users\\pavan\\anaconda3\\envs\\ml\\Lib\\site-packages\\sklearn\\model_selection\\_search.py:979: UserWarning: One or more of the train scores are non-finite: [nan nan]\n",
      "  warnings.warn(\n"
     ]
    },
    {
     "name": "stdout",
     "output_type": "stream",
     "text": [
      "------------------ max_iter ------------------\n",
      "Fitting 5 folds for each of 9 candidates, totalling 45 fits\n"
     ]
    },
    {
     "name": "stderr",
     "output_type": "stream",
     "text": [
      "C:\\Users\\pavan\\anaconda3\\envs\\ml\\Lib\\site-packages\\sklearn\\model_selection\\_search.py:979: UserWarning: One or more of the test scores are non-finite: [nan nan nan nan nan nan nan nan nan]\n",
      "  warnings.warn(\n",
      "C:\\Users\\pavan\\anaconda3\\envs\\ml\\Lib\\site-packages\\sklearn\\model_selection\\_search.py:979: UserWarning: One or more of the train scores are non-finite: [nan nan nan nan nan nan nan nan nan]\n",
      "  warnings.warn(\n"
     ]
    }
   ],
   "source": [
    "# # https://www.analyticsvidhya.com/blog/2021/05/k-mean-getting-the-optimal-number-of-clusters/\n",
    "# # \n",
    "\n",
    "# cv_scores = []\n",
    "\n",
    "# grid_params = {\n",
    "#         'n_clusters': {'model__n_clusters': np.arange(2,21)}, \n",
    "#         'n_init': {'model__n_init': np.arange(5, 55, 5)},\n",
    "#         'init': {'model__init': ['k-means++', 'random']},\n",
    "#         'max_iter': {'model__max_iter': np.arange(100, 1000, 100)},\n",
    "#     }\n",
    "# for key, grid_param in grid_params.items():\n",
    "#     print('------------------', key, '------------------')\n",
    "    \n",
    "#     gs = GridSearchCV(clus_pipeline, grid_param, \n",
    "#                       cv=N_FOLDS, scoring=silhouette_score, n_jobs=N_JOBS, verbose=VERBOSE, return_train_score=True,\n",
    "#                      refit=True)\n",
    "#     gs.fit(X_train)\n",
    "\n",
    "#     cv_scores.append(pd.DataFrame({'param': [key]*len(gs.cv_results_['mean_test_score']),\n",
    "#                                    'value': gs.cv_results_[f'param_{list(grid_param.keys())[0]}'],\n",
    "#                                    'mean_test_score': gs.cv_results_['mean_test_score'],\n",
    "#                                    'mean_train_score': gs.cv_results_['mean_train_score']}))\n",
    "\n",
    "# cv_scores = pd.concat(cv_scores)"
   ]
  },
  {
   "cell_type": "code",
   "execution_count": 68,
   "id": "ab81f493-4678-4d2c-b14d-59673f9ea35e",
   "metadata": {},
   "outputs": [
    {
     "name": "stderr",
     "output_type": "stream",
     "text": [
      "C:\\Users\\pavan\\anaconda3\\envs\\ml\\Lib\\site-packages\\seaborn\\axisgrid.py:718: UserWarning: Using the pointplot function without specifying `order` is likely to produce an incorrect plot.\n",
      "  warnings.warn(warning)\n"
     ]
    },
    {
     "data": {
      "text/plain": [
       "<seaborn.axisgrid.FacetGrid at 0x13e3337f590>"
      ]
     },
     "execution_count": 68,
     "metadata": {},
     "output_type": "execute_result"
    },
    {
     "data": {
      "image/png": "[encoded data removed]",
      "text/plain": [
       "<Figure size 1200x800 with 4 Axes>"
      ]
     },
     "metadata": {},
     "output_type": "display_data"
    }
   ],
   "source": [
    "# cv_scores_melt = cv_scores.melt(id_vars=['param', 'value'], value_vars=['mean_test_score', 'mean_train_score'], var_name='score_type', value_name='score')\n",
    "# sns.FacetGrid(cv_scores_melt, col='param', hue='score_type', col_wrap=3, height=4, sharex=False, legend_out=False).map(sns.pointplot, 'value', 'score').add_legend()"
   ]
  },
  {
   "cell_type": "code",
   "execution_count": null,
   "id": "d7b88eac-0fbd-406a-8b55-30dc455c73ae",
   "metadata": {},
   "outputs": [],
   "source": [
    "# grid_params = {\n",
    "#         'model__n_neighbors': np.arange(35, 50, 5), \n",
    "#         'model__metric':['minkowski', 'manhattan', 'euclidean'],\n",
    "#     }\n",
    "\n",
    "    \n",
    "# gs = GridSearchCV(clf_pipeline, grid_params, \n",
    "#                     cv=N_FOLDS, scoring=SCORING, n_jobs=N_JOBS, verbose=VERBOSE, return_train_score=True)\n",
    "# gs.fit(X_train, y_train.values.ravel())\n",
    "\n",
    "# print(\"Best Score of train set: \"+str(gs.best_score_))\n",
    "# print(\"Best parameter set: \"+str(gs.best_params_))\n",
    "# print(\"Test Score: \"+str(gs.score(X_test,y_test)))"
   ]
  },
  {
   "cell_type": "code",
   "execution_count": null,
   "id": "83c9eabe-305c-4ca0-8702-e931696df58a",
   "metadata": {},
   "outputs": [],
   "source": [
    "gs.best_estimator_['model']"
   ]
  },
  {
   "cell_type": "code",
   "execution_count": null,
   "id": "cccaeac2-572b-4987-bee3-29ed290c6023",
   "metadata": {},
   "outputs": [],
   "source": [
    "import joblib\n",
    "joblib.dump(value=gs, filename='./model/kmeans_dry_bean_ppl.pkl', compress=True)\n",
    "joblib.dump(value=gs.best_estimator_, filename='./model/kmeans_dry_bean_ppl.pkl', compress=True)"
   ]
  },
  {
   "cell_type": "code",
   "execution_count": null,
   "id": "7a13e7c9-5b8d-4314-9f94-5c95f066a0e2",
   "metadata": {},
   "outputs": [],
   "source": [
    "# Plot learning curve of the best model from grid search\n",
    "train_size_abs, train_scores, test_scores = \\\n",
    "    learning_curve(gs.best_estimator_, X_train, y_train, train_sizes=np.linspace(0.1, 1.0, 10), cv=N_FOLDS, n_jobs=N_JOBS, scoring=SCORING, verbose=VERBOSE)"
   ]
  },
  {
   "cell_type": "code",
   "execution_count": null,
   "id": "2793d3d4-0cbb-4468-afb9-45f45c848b53",
   "metadata": {},
   "outputs": [],
   "source": [
    "plot_df = pd.DataFrame({'train_size_abs': train_size_abs, \n",
    "                        'mean_train_scores': np.mean(train_scores, axis=1), \n",
    "                        'mean_test_scores': np.mean(test_scores, axis=1)})\n",
    "plot_df = plot_df.melt(id_vars='train_size_abs', value_vars=['mean_train_scores', 'mean_test_scores'])\n",
    "sns.pointplot(plot_df, x='train_size_abs',y ='value', hue='variable')"
   ]
  },
  {
   "cell_type": "code",
   "execution_count": null,
   "id": "2cb1b760-65c7-42d5-9968-18b28f460ff3",
   "metadata": {},
   "outputs": [],
   "source": [
    "# Get the score of the best model on test\n",
    "\n",
    "# gs.best_estimator_ is the best model found by GridSearchCV\n",
    "y_test_predictions = gs.predict(X_test)\n",
    "# Generate confusion matrix for the predictions from the best model\n",
    "conf_matrix = confusion_matrix(y_test, y_test_predictions)\n",
    "\n",
    "make_confusion_matrix(conf_matrix, group_names=['True Neg','False Pos','False Neg','True Pos'], categories=['BARBUNYA', 'BOMBAY', 'CALI', 'DERMASON', 'HOROZ', 'SEKER', 'SIRA'], cmap='Blues')"
   ]
  },
  {
   "cell_type": "code",
   "execution_count": null,
   "id": "6667644b-5ba2-447e-b5f7-7c27ee588fcf",
   "metadata": {},
   "outputs": [],
   "source": [
    "# target_names=target_names\n",
    "print(classification_report(y_test, y_test_predictions))"
   ]
  }
 ],
 "metadata": {
  "kernelspec": {
   "display_name": "ml",
   "language": "python",
   "name": "python3"
  },
  "language_info": {
   "codemirror_mode": {
    "name": "ipython",
    "version": 3
   },
   "file_extension": ".py",
   "mimetype": "text/x-python",
   "name": "python",
   "nbconvert_exporter": "python",
   "pygments_lexer": "ipython3",
   "version": "3.11.7"
  }
 },
 "nbformat": 4,
 "nbformat_minor": 5
}
